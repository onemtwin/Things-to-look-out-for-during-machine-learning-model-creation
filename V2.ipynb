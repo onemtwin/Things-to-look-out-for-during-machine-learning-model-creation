# Things to look out for during machine learning model creation.
1. Missing Values Check**  
2. Duplicate Records Check**  
3. Data Type Consistency Check**  
4. Outlier Detection**  
5. Feature Scaling Check**  
6. Class Imbalance Check** (for classification tasks)  
7. Dimensionality Check**  
8. Data Leakage Check**  
9. Irrelevant or Redundant Features Check**  
10. Encoding Categorical Variables**  
11. Feature Correlation Check**  
12. Zero Variance Features Check**  
13. Range and Distribution Check**  
14. Date and Time Format Check**  
15. Text Normalization** (for text features)  
16. Feature Engineering Opportunities**  
17. Target Variable Distribution Check**  
18. Multicollinearity Check**  
19. Data Consistency Across Splits**  
20. Anomaly Detection**  
21. Sampling Bias Check**  
22. Normalization of Feature Names**  
23. Check for Mixed Data Types in Columns**  
24. String Formatting Consistency**  
25. Dataset Size and Memory Check**  
26. Handling Skewness**  
27. Cyclical Features Encoding** (e.g., months, days)  
28. Handling Sparse Data**  
29. Data Augmentation Needs** (if applicable)  
30. Check for Domain-Specific Requirements**
