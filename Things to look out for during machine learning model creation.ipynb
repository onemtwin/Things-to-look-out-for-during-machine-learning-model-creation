{
 "cells": [
  {
   "cell_type": "markdown",
   "id": "d0210449-a190-4d6e-b1c7-16fbc2ec2424",
   "metadata": {},
   "source": [
    "# Things to look out for during machine learning model creation\n",
    "1. missing values\n",
    "2. changing caegorical data to numeric\n",
    "3. scaling data\n",
    "4. checking for data types\n",
    "5. checking for noise in the data\n",
    "6. checking for feature importance\n",
    "7. checking for class imblance\n",
    "8. looking at data dimensionality\n",
    "9. looking at data non-linear-relationship\n",
    "10. looking at the size of the dataset\n",
    "11. checking if the columns depend on each other\n",
    "12. checking if there are easily detectable patterns"
   ]
  },
  {
   "cell_type": "code",
   "execution_count": null,
   "id": "4e1b1ede-a165-4cb5-afc4-8be993854ced",
   "metadata": {},
   "outputs": [],
   "source": []
  }
 ],
 "metadata": {
  "kernelspec": {
   "display_name": "Python 3 (ipykernel)",
   "language": "python",
   "name": "python3"
  },
  "language_info": {
   "codemirror_mode": {
    "name": "ipython",
    "version": 3
   },
   "file_extension": ".py",
   "mimetype": "text/x-python",
   "name": "python",
   "nbconvert_exporter": "python",
   "pygments_lexer": "ipython3",
   "version": "3.12.7"
  }
 },
 "nbformat": 4,
 "nbformat_minor": 5
}
